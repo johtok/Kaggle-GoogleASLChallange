{
  "nbformat": 4,
  "nbformat_minor": 0,
  "metadata": {
    "colab": {
      "provenance": [],
      "authorship_tag": "ABX9TyO1EabkwVIdSeOxL1qiWKFK"
    },
    "kernelspec": {
      "name": "python3",
      "display_name": "Python 3"
    },
    "language_info": {
      "name": "python"
    }
  },
  "cells": [
    {
      "cell_type": "markdown",
      "source": [
        "# Google ASL challange"
      ],
      "metadata": {
        "id": "Dig-I8-EY4bq"
      }
    },
    {
      "cell_type": "markdown",
      "source": [
        "Why not sign google assistant 🤙\n",
        "\n",
        "To do this the image of a hand has to be recognized accordingly\n"
      ],
      "metadata": {
        "id": "2JDH9_8Qg51b"
      }
    },
    {
      "cell_type": "markdown",
      "source": [
        "## Docs and insperation"
      ],
      "metadata": {
        "id": "G38jJPgighzs"
      }
    },
    {
      "cell_type": "markdown",
      "source": [
        "## Domain specific docs "
      ],
      "metadata": {
        "id": "vGb6rsskgnrb"
      }
    },
    {
      "cell_type": "markdown",
      "source": [
        "## Packages\n",
        "\n",
        "- The levenshtein metric package"
      ],
      "metadata": {
        "id": "8-eC6PCBKOU7"
      }
    },
    {
      "cell_type": "markdown",
      "source": [
        "## Model specific docs:"
      ],
      "metadata": {
        "id": "n3zot8jZL7F9"
      }
    },
    {
      "cell_type": "markdown",
      "source": [
        "\n",
        "## The data pipeline  🚱:"
      ],
      "metadata": {
        "id": "eWW7XyK9gbbl"
      }
    },
    {
      "cell_type": "markdown",
      "source": [
        "### EDA"
      ],
      "metadata": {
        "id": "0Fk8kkUefmr5"
      }
    },
    {
      "cell_type": "markdown",
      "source": [
        "### Dataloading"
      ],
      "metadata": {
        "id": "IkmcPXDPaIHR"
      }
    },
    {
      "cell_type": "markdown",
      "source": [
        "### Preprocessing"
      ],
      "metadata": {
        "id": "l0LO7lAVfZXT"
      }
    },
    {
      "cell_type": "markdown",
      "source": [
        "### Training"
      ],
      "metadata": {
        "id": "P-kEl5zUfZ2v"
      }
    },
    {
      "cell_type": "markdown",
      "source": [
        "### Model compression"
      ],
      "metadata": {
        "id": "-Hxm-Kgif8EO"
      }
    },
    {
      "cell_type": "markdown",
      "source": [
        "### Model evaluator:"
      ],
      "metadata": {
        "id": "rGkH2468gJaK"
      }
    },
    {
      "cell_type": "code",
      "source": [],
      "metadata": {
        "id": "OAldOfyKKM96"
      },
      "execution_count": null,
      "outputs": []
    }
  ]
}